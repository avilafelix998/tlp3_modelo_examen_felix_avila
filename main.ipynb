{
 "cells": [
  {
   "cell_type": "markdown",
   "id": "9fee5ee9",
   "metadata": {},
   "source": [
    "# Modelo de Examen Practico - TLP3 - Python para Ciencia de Datos.\n"
   ]
  },
  {
   "cell_type": "markdown",
   "id": "999099d0",
   "metadata": {},
   "source": [
    "**A partir del datasets brindado, realizar los siguientes procedimientos:**\n",
    "\n",
    "* Importar datasets con Pandas.\n",
    "* Explorar los datos con los metodos correspondientes. \n",
    "* Limpieza de los datos (Normalización de datos).\n",
    "* Obtener estadisticas.\n",
    "* Mostrar los datos procesados con graficos utilizando la libreria Matplotlib.\n",
    "* Exportar el contenido a un archivo sqlite utilizando PANDAS.\n",
    "\n",
    "\n",
    "**Importante: Se debe documentar cada procedimiento realizado, siguiendo la siguiente estructura:**\n",
    "\n",
    "1. Celda de Markdown (Documentación)\n",
    "2. Código (Sin comentarios, se debe documentar lo sufiente solo en la celda de markdown)."
   ]
  },
  {
   "cell_type": "markdown",
   "id": "dd91f969",
   "metadata": {},
   "source": [
    "## Actividades: \n",
    "### 1. Importación del Dataset con Pandas\n",
    "\n",
    "En esta sección, se debe utilizar la librería Pandas para cargar el archivo CSV que contiene los datos de las calificaciones en un DataFrame, que es la estructura de datos fundamental para el análisis con Pandas.\n",
    "\n",
    "### 2. Exploración Inicial de los Datos\n",
    "\n",
    "A continuación, se deben emplear métodos de Pandas para obtener una visión general del dataset. Esto incluye mostrar las primeras filas, obtener un resumen de la información del DataFrame (tipos de datos, valores no nulos), y calcular estadísticas descriptivas de las columnas numéricas.\n",
    "\n",
    "### 3. Limpieza y Normalización de los Datos\n",
    "\n",
    "Esta etapa crucial deben aplicar la corrección de diversos errores presentes en el dataset. Se abordarán los valores faltantes, la inconsistencia en el formato de la columna 'Asistencia', los posibles valores atípicos y la normalización de los nombres de estudiantes y materias a un formato consistente (por ejemplo, capitalización).\n",
    "\n",
    "### 4. Obtención de Estadísticas Descriptivas\n",
    "\n",
    "Después de la limpieza, deben calcular nuevamente las estadísticas descriptivas para observar el impacto del proceso de limpieza en los datos numéricos. También se pueden calcular estadísticas específicas por grupo (por ejemplo, promedio de calificaciones por materia).\n",
    "\n",
    "### 5. Visualización de los Datos con Matplotlib\n",
    "\n",
    "En esta sección, deben utilizar la librería Matplotlib para crear visualizaciones que permitan comprender mejor la distribución de las calificaciones y la asistencia. Se generarán histogramas, diagramas de dispersión y gráficos de barras.\n",
    "\n",
    "### 6. Exportación a Archivo SQLite\n",
    "\n",
    "Finalmente, deben utilizar la funcionalidad de Pandas para guardar el DataFrame procesado en una base de datos SQLite. Esto permite almacenar los datos de forma estructurada para su posterior consulta y uso.\n",
    "\n"
   ]
  },
  {
   "cell_type": "markdown",
   "id": "c64895d0",
   "metadata": {},
   "source": [
    "### Importación de Pandas"
   ]
  },
  {
   "cell_type": "code",
   "execution_count": 1,
   "id": "3d7168fb",
   "metadata": {},
   "outputs": [],
   "source": [
    "import pandas as pd"
   ]
  },
  {
   "cell_type": "markdown",
   "id": "3fcfd626",
   "metadata": {},
   "source": [
    "### Exploración Inicial de los Datos\n",
    "\n",
    "En esta sección, se realiza una exploración inicial del dataset para comprender su estructura y contenido. Se utilizan los siguientes métodos:\n",
    "- head(): Para visualizar las primeras filas del DataFrame.\n",
    "- info(): Para obtener información general sobre el DataFrame, como tipos de datos y valores no nulos.\n",
    "- describe(): Para calcular estadísticas descriptivas de las columnas numéricas.\n",
    "- isnull().sum(): Para identificar valores nulos en el dataset."
   ]
  },
  {
   "cell_type": "code",
   "execution_count": 2,
   "id": "e2db880b",
   "metadata": {},
   "outputs": [
    {
     "name": "stdout",
     "output_type": "stream",
     "text": [
      "        estudiante      Materia Parcial 1 Parcial 2 Final Asistencia\n",
      "0        ana pérez  matematicas         8       7.5     9        95%\n",
      "1     carlos lópez       fisica       6.2         7   NaN        88%\n",
      "2      maría gómez      quimica         9       8.8   9.5       100%\n",
      "3  pedro rodríguez     historia       7.5         6     7         75\n",
      "4     laura vargas  matematicas                 9.2   8.5        92%\n",
      "----------------------------------------------------------------------------\n",
      "<class 'pandas.core.frame.DataFrame'>\n",
      "RangeIndex: 100 entries, 0 to 99\n",
      "Data columns (total 6 columns):\n",
      " #   Column      Non-Null Count  Dtype \n",
      "---  ------      --------------  ----- \n",
      " 0   estudiante  100 non-null    object\n",
      " 1   Materia     100 non-null    object\n",
      " 2   Parcial 1   95 non-null     object\n",
      " 3   Parcial 2   90 non-null     object\n",
      " 4   Final       89 non-null     object\n",
      " 5   Asistencia  100 non-null    object\n",
      "dtypes: object(6)\n",
      "memory usage: 4.8+ KB\n",
      "None\n"
     ]
    }
   ],
   "source": [
    "df = pd.read_csv(\"./datasets_calificaciones.csv\")\n",
    "print(df.head(5))\n",
    "print(\"----------------------------------------------------------------------------\")\n",
    "print(df.info())\n"
   ]
  },
  {
   "cell_type": "code",
   "execution_count": 3,
   "id": "6a52d6f2",
   "metadata": {},
   "outputs": [
    {
     "name": "stdout",
     "output_type": "stream",
     "text": [
      "        estudiante      Materia Parcial 1 Parcial 2 Final Asistencia\n",
      "count          100          100        95        90    89        100\n",
      "unique          96            7        49        45    46         35\n",
      "top     mateo díaz  matematicas                 7.5   9.5        99%\n",
      "freq             2           25         7         5     4          5\n",
      "----------------------------------------------------------------------------\n",
      "estudiante     0\n",
      "Materia        0\n",
      "Parcial 1      5\n",
      "Parcial 2     10\n",
      "Final         11\n",
      "Asistencia     0\n",
      "dtype: int64\n"
     ]
    }
   ],
   "source": [
    "print(df.describe())\n",
    "print(\"----------------------------------------------------------------------------\")\n",
    "print(df.isnull().sum())\n"
   ]
  },
  {
   "cell_type": "markdown",
   "id": "33992312",
   "metadata": {},
   "source": [
    "# Limpieza y Preparación del Dataset\n",
    "\n",
    "Se realiza una serie de transformaciones sobre un DataFrame  con datos de estudiantes y sus calificaciones. Para limpiar, normalizar y completar los datos faltantes para facilitar su análisis posterior.\n",
    "\n",
    "## Copia del DataFrame\n",
    "\n",
    "```python\n",
    "df_copia = df.copy()\n"
   ]
  },
  {
   "cell_type": "code",
   "execution_count": 4,
   "id": "2eaf536f",
   "metadata": {},
   "outputs": [],
   "source": [
    "df_copia = df.copy()\n",
    "\n",
    "df_copia['estudiante'] = df_copia['estudiante'].str.title()  \n",
    "df_copia['Materia'] = df_copia['Materia'].str.title() \n",
    "\n",
    "df_copia['Final'] = pd.to_numeric(df['Final'], errors='coerce')\n",
    "df_copia['Parcial 1'] = pd.to_numeric(df['Parcial 1'], errors='coerce')\n",
    "df_copia['Parcial 2'] = pd.to_numeric(df['Parcial 2'], errors='coerce')\n",
    "\n",
    "df_copia.rename(columns={\"estudiante\": \"Estudiante\"})\n",
    "\n",
    "df_copia[\"Final\"] = df_copia[\"Final\"].fillna(df_copia['Final'].mean()).round(2)\n",
    "df_copia[\"Parcial 1\"] = df_copia[\"Parcial 1\"].fillna(df_copia['Parcial 1'].mean()).round(2)\n",
    "df_copia[\"Parcial 2\"] = df_copia[\"Parcial 2\"].fillna(df_copia['Parcial 2'].mean()).round(2)\n",
    "\n"
   ]
  },
  {
   "cell_type": "code",
   "execution_count": 5,
   "id": "2d743d09",
   "metadata": {},
   "outputs": [
    {
     "data": {
      "text/html": [
       "<div>\n",
       "<style scoped>\n",
       "    .dataframe tbody tr th:only-of-type {\n",
       "        vertical-align: middle;\n",
       "    }\n",
       "\n",
       "    .dataframe tbody tr th {\n",
       "        vertical-align: top;\n",
       "    }\n",
       "\n",
       "    .dataframe thead th {\n",
       "        text-align: right;\n",
       "    }\n",
       "</style>\n",
       "<table border=\"1\" class=\"dataframe\">\n",
       "  <thead>\n",
       "    <tr style=\"text-align: right;\">\n",
       "      <th></th>\n",
       "      <th>estudiante</th>\n",
       "      <th>Materia</th>\n",
       "      <th>Parcial 1</th>\n",
       "      <th>Parcial 2</th>\n",
       "      <th>Final</th>\n",
       "      <th>Asistencia</th>\n",
       "    </tr>\n",
       "  </thead>\n",
       "  <tbody>\n",
       "    <tr>\n",
       "      <th>0</th>\n",
       "      <td>Ana Pérez</td>\n",
       "      <td>Matematicas</td>\n",
       "      <td>8.00</td>\n",
       "      <td>7.50</td>\n",
       "      <td>9.00</td>\n",
       "      <td>95%</td>\n",
       "    </tr>\n",
       "    <tr>\n",
       "      <th>1</th>\n",
       "      <td>Carlos López</td>\n",
       "      <td>Fisica</td>\n",
       "      <td>6.20</td>\n",
       "      <td>7.00</td>\n",
       "      <td>7.89</td>\n",
       "      <td>88%</td>\n",
       "    </tr>\n",
       "    <tr>\n",
       "      <th>2</th>\n",
       "      <td>María Gómez</td>\n",
       "      <td>Quimica</td>\n",
       "      <td>9.00</td>\n",
       "      <td>8.80</td>\n",
       "      <td>9.50</td>\n",
       "      <td>100%</td>\n",
       "    </tr>\n",
       "    <tr>\n",
       "      <th>3</th>\n",
       "      <td>Pedro Rodríguez</td>\n",
       "      <td>Historia</td>\n",
       "      <td>7.50</td>\n",
       "      <td>6.00</td>\n",
       "      <td>7.00</td>\n",
       "      <td>75%</td>\n",
       "    </tr>\n",
       "    <tr>\n",
       "      <th>4</th>\n",
       "      <td>Laura Vargas</td>\n",
       "      <td>Matematicas</td>\n",
       "      <td>7.83</td>\n",
       "      <td>9.20</td>\n",
       "      <td>8.50</td>\n",
       "      <td>92%</td>\n",
       "    </tr>\n",
       "    <tr>\n",
       "      <th>...</th>\n",
       "      <td>...</td>\n",
       "      <td>...</td>\n",
       "      <td>...</td>\n",
       "      <td>...</td>\n",
       "      <td>...</td>\n",
       "      <td>...</td>\n",
       "    </tr>\n",
       "    <tr>\n",
       "      <th>95</th>\n",
       "      <td>Josefina Torres</td>\n",
       "      <td>Historia</td>\n",
       "      <td>7.40</td>\n",
       "      <td>6.80</td>\n",
       "      <td>7.20</td>\n",
       "      <td>81%</td>\n",
       "    </tr>\n",
       "    <tr>\n",
       "      <th>96</th>\n",
       "      <td>Bautista Vargas</td>\n",
       "      <td>Matematicas</td>\n",
       "      <td>8.70</td>\n",
       "      <td>7.83</td>\n",
       "      <td>8.50</td>\n",
       "      <td>92%</td>\n",
       "    </tr>\n",
       "    <tr>\n",
       "      <th>97</th>\n",
       "      <td>Emma Soto</td>\n",
       "      <td>Fisica</td>\n",
       "      <td>6.60</td>\n",
       "      <td>7.00</td>\n",
       "      <td>6.40</td>\n",
       "      <td>83%</td>\n",
       "    </tr>\n",
       "    <tr>\n",
       "      <th>98</th>\n",
       "      <td>Mateo Díaz</td>\n",
       "      <td>Quimica</td>\n",
       "      <td>9.50</td>\n",
       "      <td>9.70</td>\n",
       "      <td>7.89</td>\n",
       "      <td>98%</td>\n",
       "    </tr>\n",
       "    <tr>\n",
       "      <th>99</th>\n",
       "      <td>Sofía Fernández</td>\n",
       "      <td>Historia</td>\n",
       "      <td>7.10</td>\n",
       "      <td>7.60</td>\n",
       "      <td>7.50</td>\n",
       "      <td>87%</td>\n",
       "    </tr>\n",
       "  </tbody>\n",
       "</table>\n",
       "<p>100 rows × 6 columns</p>\n",
       "</div>"
      ],
      "text/plain": [
       "         estudiante      Materia  Parcial 1  Parcial 2  Final Asistencia\n",
       "0         Ana Pérez  Matematicas       8.00       7.50   9.00        95%\n",
       "1      Carlos López       Fisica       6.20       7.00   7.89        88%\n",
       "2       María Gómez      Quimica       9.00       8.80   9.50       100%\n",
       "3   Pedro Rodríguez     Historia       7.50       6.00   7.00        75%\n",
       "4      Laura Vargas  Matematicas       7.83       9.20   8.50        92%\n",
       "..              ...          ...        ...        ...    ...        ...\n",
       "95  Josefina Torres     Historia       7.40       6.80   7.20        81%\n",
       "96  Bautista Vargas  Matematicas       8.70       7.83   8.50        92%\n",
       "97        Emma Soto       Fisica       6.60       7.00   6.40        83%\n",
       "98       Mateo Díaz      Quimica       9.50       9.70   7.89        98%\n",
       "99  Sofía Fernández     Historia       7.10       7.60   7.50        87%\n",
       "\n",
       "[100 rows x 6 columns]"
      ]
     },
     "execution_count": 5,
     "metadata": {},
     "output_type": "execute_result"
    }
   ],
   "source": [
    "df_copia[\"Asistencia\"] = df_copia[\"Asistencia\"].str.replace(\"%\",\"\").astype(int)\n",
    "df_copia[\"Asistencia\"] = df_copia[\"Asistencia\"].clip(100,upper = True).astype(str) + \"%\"\n",
    "df_copia"
   ]
  },
  {
   "cell_type": "code",
   "execution_count": 6,
   "id": "d2022b56",
   "metadata": {},
   "outputs": [
    {
     "data": {
      "text/html": [
       "<div>\n",
       "<style scoped>\n",
       "    .dataframe tbody tr th:only-of-type {\n",
       "        vertical-align: middle;\n",
       "    }\n",
       "\n",
       "    .dataframe tbody tr th {\n",
       "        vertical-align: top;\n",
       "    }\n",
       "\n",
       "    .dataframe thead th {\n",
       "        text-align: right;\n",
       "    }\n",
       "</style>\n",
       "<table border=\"1\" class=\"dataframe\">\n",
       "  <thead>\n",
       "    <tr style=\"text-align: right;\">\n",
       "      <th></th>\n",
       "      <th>Parcial 1</th>\n",
       "      <th>Parcial 2</th>\n",
       "      <th>Final</th>\n",
       "    </tr>\n",
       "  </thead>\n",
       "  <tbody>\n",
       "    <tr>\n",
       "      <th>count</th>\n",
       "      <td>25.000000</td>\n",
       "      <td>25.000000</td>\n",
       "      <td>25.000000</td>\n",
       "    </tr>\n",
       "    <tr>\n",
       "      <th>mean</th>\n",
       "      <td>8.087200</td>\n",
       "      <td>8.261600</td>\n",
       "      <td>8.470400</td>\n",
       "    </tr>\n",
       "    <tr>\n",
       "      <th>std</th>\n",
       "      <td>0.655849</td>\n",
       "      <td>0.550391</td>\n",
       "      <td>0.640849</td>\n",
       "    </tr>\n",
       "    <tr>\n",
       "      <th>min</th>\n",
       "      <td>6.900000</td>\n",
       "      <td>7.300000</td>\n",
       "      <td>7.100000</td>\n",
       "    </tr>\n",
       "    <tr>\n",
       "      <th>25%</th>\n",
       "      <td>7.830000</td>\n",
       "      <td>7.830000</td>\n",
       "      <td>7.890000</td>\n",
       "    </tr>\n",
       "    <tr>\n",
       "      <th>50%</th>\n",
       "      <td>8.000000</td>\n",
       "      <td>8.100000</td>\n",
       "      <td>8.500000</td>\n",
       "    </tr>\n",
       "    <tr>\n",
       "      <th>75%</th>\n",
       "      <td>8.500000</td>\n",
       "      <td>8.700000</td>\n",
       "      <td>8.900000</td>\n",
       "    </tr>\n",
       "    <tr>\n",
       "      <th>max</th>\n",
       "      <td>9.500000</td>\n",
       "      <td>9.300000</td>\n",
       "      <td>9.600000</td>\n",
       "    </tr>\n",
       "  </tbody>\n",
       "</table>\n",
       "</div>"
      ],
      "text/plain": [
       "       Parcial 1  Parcial 2      Final\n",
       "count  25.000000  25.000000  25.000000\n",
       "mean    8.087200   8.261600   8.470400\n",
       "std     0.655849   0.550391   0.640849\n",
       "min     6.900000   7.300000   7.100000\n",
       "25%     7.830000   7.830000   7.890000\n",
       "50%     8.000000   8.100000   8.500000\n",
       "75%     8.500000   8.700000   8.900000\n",
       "max     9.500000   9.300000   9.600000"
      ]
     },
     "execution_count": 6,
     "metadata": {},
     "output_type": "execute_result"
    }
   ],
   "source": [
    "Matematica = df_copia[df_copia[\"Materia\"] == \"Matematicas\"]\n",
    "Matematica.describe()"
   ]
  },
  {
   "cell_type": "code",
   "execution_count": 7,
   "id": "f5903962",
   "metadata": {},
   "outputs": [
    {
     "data": {
      "text/plain": [
       "Materia\n",
       "Ciencias Sociales       7.890000\n",
       "Fisica                  6.624583\n",
       "Historia                7.481667\n",
       "Literatura Universal    8.200000\n",
       "Matematicas             8.470400\n",
       "Programacion Basica     6.300000\n",
       "Quimica                 9.027083\n",
       "Name: Final, dtype: float64"
      ]
     },
     "execution_count": 7,
     "metadata": {},
     "output_type": "execute_result"
    }
   ],
   "source": [
    "promedio_final_por_materia = df_copia.groupby(\"Materia\")[\"Final\"].mean()\n",
    "promedio_final_por_materia"
   ]
  },
  {
   "cell_type": "code",
   "execution_count": 8,
   "id": "5714bb0f",
   "metadata": {},
   "outputs": [
    {
     "data": {
      "image/png": "[encoded data removed]",
      "text/plain": [
       "<Figure size 640x480 with 1 Axes>"
      ]
     },
     "metadata": {},
     "output_type": "display_data"
    }
   ],
   "source": [
    "import matplotlib.pyplot as plt\n",
    "plt.bar(promedio_final_por_materia.index,promedio_final_por_materia.values,edgecolor=\"red\")\n",
    "plt.title(\"promedio_final_por_materia\")\n",
    "plt.xticks(rotation=60)\n",
    "plt.show()\n"
   ]
  },
  {
   "cell_type": "code",
   "execution_count": 9,
   "id": "0c641949",
   "metadata": {},
   "outputs": [
    {
     "data": {
      "text/html": [
       "<div>\n",
       "<style scoped>\n",
       "    .dataframe tbody tr th:only-of-type {\n",
       "        vertical-align: middle;\n",
       "    }\n",
       "\n",
       "    .dataframe tbody tr th {\n",
       "        vertical-align: top;\n",
       "    }\n",
       "\n",
       "    .dataframe thead th {\n",
       "        text-align: right;\n",
       "    }\n",
       "</style>\n",
       "<table border=\"1\" class=\"dataframe\">\n",
       "  <thead>\n",
       "    <tr style=\"text-align: right;\">\n",
       "      <th></th>\n",
       "      <th>estudiante</th>\n",
       "      <th>Materia</th>\n",
       "      <th>Parcial 1</th>\n",
       "      <th>Parcial 2</th>\n",
       "      <th>Final</th>\n",
       "      <th>Asistencia</th>\n",
       "    </tr>\n",
       "  </thead>\n",
       "  <tbody>\n",
       "    <tr>\n",
       "      <th>0</th>\n",
       "      <td>Ana Pérez</td>\n",
       "      <td>Matematicas</td>\n",
       "      <td>8.00</td>\n",
       "      <td>7.50</td>\n",
       "      <td>9.00</td>\n",
       "      <td>95</td>\n",
       "    </tr>\n",
       "    <tr>\n",
       "      <th>1</th>\n",
       "      <td>Carlos López</td>\n",
       "      <td>Fisica</td>\n",
       "      <td>6.20</td>\n",
       "      <td>7.00</td>\n",
       "      <td>7.89</td>\n",
       "      <td>88</td>\n",
       "    </tr>\n",
       "    <tr>\n",
       "      <th>2</th>\n",
       "      <td>María Gómez</td>\n",
       "      <td>Quimica</td>\n",
       "      <td>9.00</td>\n",
       "      <td>8.80</td>\n",
       "      <td>9.50</td>\n",
       "      <td>100</td>\n",
       "    </tr>\n",
       "    <tr>\n",
       "      <th>3</th>\n",
       "      <td>Pedro Rodríguez</td>\n",
       "      <td>Historia</td>\n",
       "      <td>7.50</td>\n",
       "      <td>6.00</td>\n",
       "      <td>7.00</td>\n",
       "      <td>75</td>\n",
       "    </tr>\n",
       "    <tr>\n",
       "      <th>4</th>\n",
       "      <td>Laura Vargas</td>\n",
       "      <td>Matematicas</td>\n",
       "      <td>7.83</td>\n",
       "      <td>9.20</td>\n",
       "      <td>8.50</td>\n",
       "      <td>92</td>\n",
       "    </tr>\n",
       "    <tr>\n",
       "      <th>...</th>\n",
       "      <td>...</td>\n",
       "      <td>...</td>\n",
       "      <td>...</td>\n",
       "      <td>...</td>\n",
       "      <td>...</td>\n",
       "      <td>...</td>\n",
       "    </tr>\n",
       "    <tr>\n",
       "      <th>95</th>\n",
       "      <td>Josefina Torres</td>\n",
       "      <td>Historia</td>\n",
       "      <td>7.40</td>\n",
       "      <td>6.80</td>\n",
       "      <td>7.20</td>\n",
       "      <td>81</td>\n",
       "    </tr>\n",
       "    <tr>\n",
       "      <th>96</th>\n",
       "      <td>Bautista Vargas</td>\n",
       "      <td>Matematicas</td>\n",
       "      <td>8.70</td>\n",
       "      <td>7.83</td>\n",
       "      <td>8.50</td>\n",
       "      <td>92</td>\n",
       "    </tr>\n",
       "    <tr>\n",
       "      <th>97</th>\n",
       "      <td>Emma Soto</td>\n",
       "      <td>Fisica</td>\n",
       "      <td>6.60</td>\n",
       "      <td>7.00</td>\n",
       "      <td>6.40</td>\n",
       "      <td>83</td>\n",
       "    </tr>\n",
       "    <tr>\n",
       "      <th>98</th>\n",
       "      <td>Mateo Díaz</td>\n",
       "      <td>Quimica</td>\n",
       "      <td>9.50</td>\n",
       "      <td>9.70</td>\n",
       "      <td>7.89</td>\n",
       "      <td>98</td>\n",
       "    </tr>\n",
       "    <tr>\n",
       "      <th>99</th>\n",
       "      <td>Sofía Fernández</td>\n",
       "      <td>Historia</td>\n",
       "      <td>7.10</td>\n",
       "      <td>7.60</td>\n",
       "      <td>7.50</td>\n",
       "      <td>87</td>\n",
       "    </tr>\n",
       "  </tbody>\n",
       "</table>\n",
       "<p>100 rows × 6 columns</p>\n",
       "</div>"
      ],
      "text/plain": [
       "         estudiante      Materia  Parcial 1  Parcial 2  Final  Asistencia\n",
       "0         Ana Pérez  Matematicas       8.00       7.50   9.00          95\n",
       "1      Carlos López       Fisica       6.20       7.00   7.89          88\n",
       "2       María Gómez      Quimica       9.00       8.80   9.50         100\n",
       "3   Pedro Rodríguez     Historia       7.50       6.00   7.00          75\n",
       "4      Laura Vargas  Matematicas       7.83       9.20   8.50          92\n",
       "..              ...          ...        ...        ...    ...         ...\n",
       "95  Josefina Torres     Historia       7.40       6.80   7.20          81\n",
       "96  Bautista Vargas  Matematicas       8.70       7.83   8.50          92\n",
       "97        Emma Soto       Fisica       6.60       7.00   6.40          83\n",
       "98       Mateo Díaz      Quimica       9.50       9.70   7.89          98\n",
       "99  Sofía Fernández     Historia       7.10       7.60   7.50          87\n",
       "\n",
       "[100 rows x 6 columns]"
      ]
     },
     "execution_count": 9,
     "metadata": {},
     "output_type": "execute_result"
    }
   ],
   "source": [
    "promedio_de_asistencia = df_copia.copy()\n",
    "promedio_de_asistencia[\"Asistencia\"] = promedio_de_asistencia[\"Asistencia\"].str.replace(\"%\",\"\").astype(int)\n",
    "promedio_de_asistencia"
   ]
  },
  {
   "cell_type": "code",
   "execution_count": 10,
   "id": "11d8ab83",
   "metadata": {},
   "outputs": [
    {
     "data": {
      "text/plain": [
       "Materia\n",
       "Ciencias Sociales       98.000000\n",
       "Fisica                  82.208333\n",
       "Historia                80.083333\n",
       "Literatura Universal    85.000000\n",
       "Matematicas             92.680000\n",
       "Programacion Basica     82.000000\n",
       "Quimica                 97.541667\n",
       "Name: Asistencia, dtype: float64"
      ]
     },
     "execution_count": 10,
     "metadata": {},
     "output_type": "execute_result"
    }
   ],
   "source": [
    "promedio_de_asistencia_materia = promedio_de_asistencia.groupby(\"Materia\")[\"Asistencia\"].mean()\n",
    "promedio_de_asistencia_materia"
   ]
  },
  {
   "cell_type": "code",
   "execution_count": 11,
   "id": "ba5bcb8c",
   "metadata": {},
   "outputs": [
    {
     "data": {
      "image/png": "[encoded data removed]",
      "text/plain": [
       "<Figure size 640x480 with 1 Axes>"
      ]
     },
     "metadata": {},
     "output_type": "display_data"
    }
   ],
   "source": [
    "plt.bar(promedio_de_asistencia_materia.index,promedio_de_asistencia_materia.values,edgecolor=\"red\")\n",
    "plt.title(\"promedio_de_asistencia_materia\")\n",
    "plt.xticks(rotation=60)\n",
    "plt.show()"
   ]
  },
  {
   "cell_type": "code",
   "execution_count": 12,
   "id": "53875333",
   "metadata": {},
   "outputs": [
    {
     "data": {
      "text/plain": [
       "100"
      ]
     },
     "execution_count": 12,
     "metadata": {},
     "output_type": "execute_result"
    }
   ],
   "source": [
    "from sqlalchemy import create_engine\n",
    "\n",
    "engine = create_engine(\"sqlite:///notas.sqlite\")\n",
    "\n",
    "df_copia.to_sql(\"notas\", con=engine, index=False, if_exists=\"replace\")"
   ]
  }
 ],
 "metadata": {
  "kernelspec": {
   "display_name": "venv",
   "language": "python",
   "name": "python3"
  },
  "language_info": {
   "codemirror_mode": {
    "name": "ipython",
    "version": 3
   },
   "file_extension": ".py",
   "mimetype": "text/x-python",
   "name": "python",
   "nbconvert_exporter": "python",
   "pygments_lexer": "ipython3",
   "version": "3.13.2"
  }
 },
 "nbformat": 4,
 "nbformat_minor": 5
}
